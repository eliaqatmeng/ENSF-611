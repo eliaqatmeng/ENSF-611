{
 "cells": [
  {
   "cell_type": "markdown",
   "id": "87fee377",
   "metadata": {},
   "source": [
    "# Assignment 5: PCA and Clustering (40 marks)\n",
    "### Due: December 6 at 11:59pm \n",
    "(Dropbox will remain open until December 8 at 11:59pm)\n",
    "\n",
    "### Name: Ehsan Liaqat"
   ]
  },
  {
   "cell_type": "markdown",
   "id": "ba7f05d0",
   "metadata": {},
   "source": [
    "The purpose of this assignment is to practice using PCA and clustering techniques on a given dataset."
   ]
  },
  {
   "cell_type": "code",
   "execution_count": 7,
   "id": "be4299ae",
   "metadata": {},
   "outputs": [],
   "source": [
    "import numpy as np\n",
    "import pandas as pd\n",
    "import matplotlib.pyplot as plt\n",
    "import seaborn as sns\n",
    "\n",
    "from sklearn.model_selection import train_test_split"
   ]
  },
  {
   "cell_type": "markdown",
   "id": "3c84e8e3",
   "metadata": {},
   "source": [
    "## Part 1: Principle Component Analysis (PCA) (18 marks)"
   ]
  },
  {
   "cell_type": "markdown",
   "id": "fe7cfa4f",
   "metadata": {},
   "source": [
    "### Step 1. Load data (2 marks)\n",
    "\n",
    "You have been asked by an agricultural company to help them predict the type of wheat based on kernel characteristics. You have been given all the information you need in the seeds_dataset.txt file on D2L. The original dataset can be found [here](https://archive.ics.uci.edu/dataset/236/seeds)\n",
    "\n",
    "The first step is to read in the file using pandas and inspect the first few columns. Note that the data is in a text file, so the separator is different compared to a csv file."
   ]
  },
  {
   "cell_type": "code",
   "execution_count": 2,
   "id": "474481f1",
   "metadata": {},
   "outputs": [
    {
     "data": {
      "text/html": [
       "<div>\n",
       "<style scoped>\n",
       "    .dataframe tbody tr th:only-of-type {\n",
       "        vertical-align: middle;\n",
       "    }\n",
       "\n",
       "    .dataframe tbody tr th {\n",
       "        vertical-align: top;\n",
       "    }\n",
       "\n",
       "    .dataframe thead th {\n",
       "        text-align: right;\n",
       "    }\n",
       "</style>\n",
       "<table border=\"1\" class=\"dataframe\">\n",
       "  <thead>\n",
       "    <tr style=\"text-align: right;\">\n",
       "      <th></th>\n",
       "      <th>0</th>\n",
       "      <th>1</th>\n",
       "      <th>2</th>\n",
       "      <th>3</th>\n",
       "      <th>4</th>\n",
       "      <th>5</th>\n",
       "      <th>6</th>\n",
       "      <th>7</th>\n",
       "    </tr>\n",
       "  </thead>\n",
       "  <tbody>\n",
       "    <tr>\n",
       "      <th>0</th>\n",
       "      <td>15.26</td>\n",
       "      <td>14.84</td>\n",
       "      <td>0.8710</td>\n",
       "      <td>5.763</td>\n",
       "      <td>3.312</td>\n",
       "      <td>2.221</td>\n",
       "      <td>5.220</td>\n",
       "      <td>1</td>\n",
       "    </tr>\n",
       "    <tr>\n",
       "      <th>1</th>\n",
       "      <td>14.88</td>\n",
       "      <td>14.57</td>\n",
       "      <td>0.8811</td>\n",
       "      <td>5.554</td>\n",
       "      <td>3.333</td>\n",
       "      <td>1.018</td>\n",
       "      <td>4.956</td>\n",
       "      <td>1</td>\n",
       "    </tr>\n",
       "    <tr>\n",
       "      <th>2</th>\n",
       "      <td>14.29</td>\n",
       "      <td>14.09</td>\n",
       "      <td>0.9050</td>\n",
       "      <td>5.291</td>\n",
       "      <td>3.337</td>\n",
       "      <td>2.699</td>\n",
       "      <td>4.825</td>\n",
       "      <td>1</td>\n",
       "    </tr>\n",
       "    <tr>\n",
       "      <th>3</th>\n",
       "      <td>13.84</td>\n",
       "      <td>13.94</td>\n",
       "      <td>0.8955</td>\n",
       "      <td>5.324</td>\n",
       "      <td>3.379</td>\n",
       "      <td>2.259</td>\n",
       "      <td>4.805</td>\n",
       "      <td>1</td>\n",
       "    </tr>\n",
       "    <tr>\n",
       "      <th>4</th>\n",
       "      <td>16.14</td>\n",
       "      <td>14.99</td>\n",
       "      <td>0.9034</td>\n",
       "      <td>5.658</td>\n",
       "      <td>3.562</td>\n",
       "      <td>1.355</td>\n",
       "      <td>5.175</td>\n",
       "      <td>1</td>\n",
       "    </tr>\n",
       "  </tbody>\n",
       "</table>\n",
       "</div>"
      ],
      "text/plain": [
       "       0      1       2      3      4      5      6  7\n",
       "0  15.26  14.84  0.8710  5.763  3.312  2.221  5.220  1\n",
       "1  14.88  14.57  0.8811  5.554  3.333  1.018  4.956  1\n",
       "2  14.29  14.09  0.9050  5.291  3.337  2.699  4.825  1\n",
       "3  13.84  13.94  0.8955  5.324  3.379  2.259  4.805  1\n",
       "4  16.14  14.99  0.9034  5.658  3.562  1.355  5.175  1"
      ]
     },
     "execution_count": 2,
     "metadata": {},
     "output_type": "execute_result"
    }
   ],
   "source": [
    "# TODO: Import dataset and inspect the first five columns\n",
    "\n",
    "all_data = pd.read_csv('seeds_dataset.txt', delimiter ='\\t', header = None)\n",
    "all_data.head(5)"
   ]
  },
  {
   "cell_type": "markdown",
   "id": "c0453ae3",
   "metadata": {},
   "source": [
    "Next, you will need to separate the data into your feature matrix and target vector."
   ]
  },
  {
   "cell_type": "code",
   "execution_count": 5,
   "id": "15a5c76c",
   "metadata": {},
   "outputs": [
    {
     "name": "stdout",
     "output_type": "stream",
     "text": [
      "        Feature 1   Feature 2   Feature 3   Feature 4   Feature 5   Feature 6  \\\n",
      "count  210.000000  210.000000  210.000000  210.000000  210.000000  210.000000   \n",
      "mean    14.847524   14.559286    0.870999    5.628533    3.258605    3.700201   \n",
      "std      2.909699    1.305959    0.023629    0.443063    0.377714    1.503557   \n",
      "min     10.590000   12.410000    0.808100    4.899000    2.630000    0.765100   \n",
      "25%     12.270000   13.450000    0.856900    5.262250    2.944000    2.561500   \n",
      "50%     14.355000   14.320000    0.873450    5.523500    3.237000    3.599000   \n",
      "75%     17.305000   15.715000    0.887775    5.979750    3.561750    4.768750   \n",
      "max     21.180000   17.250000    0.918300    6.675000    4.033000    8.456000   \n",
      "\n",
      "        Feature 7  \n",
      "count  210.000000  \n",
      "mean     5.408071  \n",
      "std      0.491480  \n",
      "min      4.519000  \n",
      "25%      5.045000  \n",
      "50%      5.223000  \n",
      "75%      5.877000  \n",
      "max      6.550000  \n",
      "(210, 7)\n",
      "(210,)\n"
     ]
    }
   ],
   "source": [
    "# TODO: Separate the data into feature matrix and target vector. Print the shape of X and y\n",
    "\n",
    "all_data.columns = ['Feature 1', 'Feature 2', 'Feature 3', 'Feature 4',\n",
    "                      'Feature 5', 'Feature 6', 'Feature 7', 'Target Vector']\n",
    "\n",
    "X = all_data.drop('Target Vector', axis = 1)\n",
    "y = all_data['Target Vector']\n",
    "\n",
    "print(X.describe())\n",
    "print(X.shape)\n",
    "print(y.shape)"
   ]
  },
  {
   "cell_type": "markdown",
   "id": "e5024bec",
   "metadata": {},
   "source": [
    "### Step 2: Preprocessing (2 marks)"
   ]
  },
  {
   "cell_type": "markdown",
   "id": "f908b657",
   "metadata": {},
   "source": [
    "To preprocess the data, we will need to scale the data. Which scaler would you select and why? *(1 mark)* \n",
    "\n",
    "*ANSWER HERE*\n",
    "\n",
    "Looking from the datasets details, most values are between 1 to 20 and positive and we should use StandardScaler, since all the data seems to have a normal distribution. We cannot use RobustScaler as some values are close to 0 and we cannot use MinMaxScale as the values are between 1 to 20 which is small."
   ]
  },
  {
   "cell_type": "markdown",
   "id": "c29892b5",
   "metadata": {},
   "source": [
    "Before we implement the scaler, we need to split the data into training and testing sets first."
   ]
  },
  {
   "cell_type": "code",
   "execution_count": 23,
   "id": "04f3a4bf",
   "metadata": {},
   "outputs": [],
   "source": [
    "# TODO: Split the data into training and testing sets\n",
    "\n",
    "X_train, X_test, y_train, y_test = train_test_split(X, y, random_state = 0)"
   ]
  },
  {
   "cell_type": "code",
   "execution_count": 22,
   "id": "f22529a6",
   "metadata": {},
   "outputs": [
    {
     "name": "stdout",
     "output_type": "stream",
     "text": [
      "(157, 7)\n",
      "(157,)\n"
     ]
    }
   ],
   "source": [
    "# TODO: Print the shape of the training feature matrix and target vector\n",
    "\n",
    "print(X_train.shape)\n",
    "print(y_train.shape)"
   ]
  },
  {
   "cell_type": "markdown",
   "id": "282cbc43",
   "metadata": {},
   "source": [
    "Now that we have our training data, we can implement our selected scaler."
   ]
  },
  {
   "cell_type": "code",
   "execution_count": 21,
   "id": "ed75b036",
   "metadata": {},
   "outputs": [],
   "source": [
    "# TODO: Scale the data\n",
    "\n",
    "from sklearn.preprocessing import StandardScaler\n",
    "\n",
    "scale_std = StandardScaler()\n",
    "scale_std.fit(X_train)\n",
    "X_train_scl = scale_std.transform(X_train)\n",
    "X_test_scl = scale_std.transform(X_test)"
   ]
  },
  {
   "cell_type": "markdown",
   "id": "8cfa23f3",
   "metadata": {},
   "source": [
    "### Step 3: Model Selection (1 mark)"
   ]
  },
  {
   "cell_type": "markdown",
   "id": "773d0687",
   "metadata": {},
   "source": [
    "The next step is to instantiate our selected model. In this case, we will be using `LogisticRegression()`"
   ]
  },
  {
   "cell_type": "code",
   "execution_count": 28,
   "id": "b79801bc",
   "metadata": {},
   "outputs": [
    {
     "data": {
      "text/html": [
       "<style>#sk-container-id-5 {color: black;}#sk-container-id-5 pre{padding: 0;}#sk-container-id-5 div.sk-toggleable {background-color: white;}#sk-container-id-5 label.sk-toggleable__label {cursor: pointer;display: block;width: 100%;margin-bottom: 0;padding: 0.3em;box-sizing: border-box;text-align: center;}#sk-container-id-5 label.sk-toggleable__label-arrow:before {content: \"▸\";float: left;margin-right: 0.25em;color: #696969;}#sk-container-id-5 label.sk-toggleable__label-arrow:hover:before {color: black;}#sk-container-id-5 div.sk-estimator:hover label.sk-toggleable__label-arrow:before {color: black;}#sk-container-id-5 div.sk-toggleable__content {max-height: 0;max-width: 0;overflow: hidden;text-align: left;background-color: #f0f8ff;}#sk-container-id-5 div.sk-toggleable__content pre {margin: 0.2em;color: black;border-radius: 0.25em;background-color: #f0f8ff;}#sk-container-id-5 input.sk-toggleable__control:checked~div.sk-toggleable__content {max-height: 200px;max-width: 100%;overflow: auto;}#sk-container-id-5 input.sk-toggleable__control:checked~label.sk-toggleable__label-arrow:before {content: \"▾\";}#sk-container-id-5 div.sk-estimator input.sk-toggleable__control:checked~label.sk-toggleable__label {background-color: #d4ebff;}#sk-container-id-5 div.sk-label input.sk-toggleable__control:checked~label.sk-toggleable__label {background-color: #d4ebff;}#sk-container-id-5 input.sk-hidden--visually {border: 0;clip: rect(1px 1px 1px 1px);clip: rect(1px, 1px, 1px, 1px);height: 1px;margin: -1px;overflow: hidden;padding: 0;position: absolute;width: 1px;}#sk-container-id-5 div.sk-estimator {font-family: monospace;background-color: #f0f8ff;border: 1px dotted black;border-radius: 0.25em;box-sizing: border-box;margin-bottom: 0.5em;}#sk-container-id-5 div.sk-estimator:hover {background-color: #d4ebff;}#sk-container-id-5 div.sk-parallel-item::after {content: \"\";width: 100%;border-bottom: 1px solid gray;flex-grow: 1;}#sk-container-id-5 div.sk-label:hover label.sk-toggleable__label {background-color: #d4ebff;}#sk-container-id-5 div.sk-serial::before {content: \"\";position: absolute;border-left: 1px solid gray;box-sizing: border-box;top: 0;bottom: 0;left: 50%;z-index: 0;}#sk-container-id-5 div.sk-serial {display: flex;flex-direction: column;align-items: center;background-color: white;padding-right: 0.2em;padding-left: 0.2em;position: relative;}#sk-container-id-5 div.sk-item {position: relative;z-index: 1;}#sk-container-id-5 div.sk-parallel {display: flex;align-items: stretch;justify-content: center;background-color: white;position: relative;}#sk-container-id-5 div.sk-item::before, #sk-container-id-5 div.sk-parallel-item::before {content: \"\";position: absolute;border-left: 1px solid gray;box-sizing: border-box;top: 0;bottom: 0;left: 50%;z-index: -1;}#sk-container-id-5 div.sk-parallel-item {display: flex;flex-direction: column;z-index: 1;position: relative;background-color: white;}#sk-container-id-5 div.sk-parallel-item:first-child::after {align-self: flex-end;width: 50%;}#sk-container-id-5 div.sk-parallel-item:last-child::after {align-self: flex-start;width: 50%;}#sk-container-id-5 div.sk-parallel-item:only-child::after {width: 0;}#sk-container-id-5 div.sk-dashed-wrapped {border: 1px dashed gray;margin: 0 0.4em 0.5em 0.4em;box-sizing: border-box;padding-bottom: 0.4em;background-color: white;}#sk-container-id-5 div.sk-label label {font-family: monospace;font-weight: bold;display: inline-block;line-height: 1.2em;}#sk-container-id-5 div.sk-label-container {text-align: center;}#sk-container-id-5 div.sk-container {/* jupyter's `normalize.less` sets `[hidden] { display: none; }` but bootstrap.min.css set `[hidden] { display: none !important; }` so we also need the `!important` here to be able to override the default hidden behavior on the sphinx rendered scikit-learn.org. See: https://github.com/scikit-learn/scikit-learn/issues/21755 */display: inline-block !important;position: relative;}#sk-container-id-5 div.sk-text-repr-fallback {display: none;}</style><div id=\"sk-container-id-5\" class=\"sk-top-container\"><div class=\"sk-text-repr-fallback\"><pre>LogisticRegression(max_iter=5000)</pre><b>In a Jupyter environment, please rerun this cell to show the HTML representation or trust the notebook. <br />On GitHub, the HTML representation is unable to render, please try loading this page with nbviewer.org.</b></div><div class=\"sk-container\" hidden><div class=\"sk-item\"><div class=\"sk-estimator sk-toggleable\"><input class=\"sk-toggleable__control sk-hidden--visually\" id=\"sk-estimator-id-5\" type=\"checkbox\" checked><label for=\"sk-estimator-id-5\" class=\"sk-toggleable__label sk-toggleable__label-arrow\">LogisticRegression</label><div class=\"sk-toggleable__content\"><pre>LogisticRegression(max_iter=5000)</pre></div></div></div></div></div>"
      ],
      "text/plain": [
       "LogisticRegression(max_iter=5000)"
      ]
     },
     "execution_count": 28,
     "metadata": {},
     "output_type": "execute_result"
    }
   ],
   "source": [
    "# TODO: Instantiate model\n",
    "\n",
    "from sklearn.linear_model import LogisticRegression\n",
    "\n",
    "Log_Reg = LogisticRegression(max_iter = 5000)\n",
    "Log_Reg.fit(X_train_scl, y_train)"
   ]
  },
  {
   "cell_type": "markdown",
   "id": "2177add4",
   "metadata": {},
   "source": [
    "### Step 4: Validation (2 marks)"
   ]
  },
  {
   "cell_type": "markdown",
   "id": "4092329e",
   "metadata": {},
   "source": [
    "To validate the results, we need to use cross-validation. To make sure we are using the best hyperparmeters, we can use a grid search. The parameter grid has been provided below."
   ]
  },
  {
   "cell_type": "code",
   "execution_count": 29,
   "id": "d3e5cfe7",
   "metadata": {},
   "outputs": [],
   "source": [
    "param_grid = {'C': [0.01, 0.1, 1.0, 10.0],\n",
    "             'fit_intercept': [True, False]}"
   ]
  },
  {
   "cell_type": "code",
   "execution_count": 32,
   "id": "e0317e3f",
   "metadata": {},
   "outputs": [
    {
     "name": "stdout",
     "output_type": "stream",
     "text": [
      "Best Parameters: {'C': 10.0, 'fit_intercept': True}\n",
      "Cross-Validation Score: 0.9368951612903226\n",
      "Test Score: 0.9622641509433962\n"
     ]
    }
   ],
   "source": [
    "#TODO: Implement the grid search and print the best parameters, cross-validation score and test score\n",
    "from sklearn.model_selection import GridSearchCV\n",
    "from sklearn.metrics import accuracy_score\n",
    "\n",
    "Log_Reg_grid_search = GridSearchCV(Log_Reg, param_grid , cv = 5, n_jobs = -1)\n",
    "Log_Reg_grid_search.fit(X_train_scl, y_train)\n",
    "\n",
    "y_pred_test = Log_Reg_grid_search.predict(X_test_scl)\n",
    "test_score = accuracy_score(y_test, y_pred_test)\n",
    "\n",
    "#Best Parameters\n",
    "print(\"Best Parameters:\", Log_Reg_grid_search.best_params_)\n",
    "#Cross Validation\n",
    "print(\"Cross-Validation Score:\", Log_Reg_grid_search.best_score_)\n",
    "#Accuracy Score\n",
    "print(\"Test Score:\", test_score)\n",
    "\n"
   ]
  },
  {
   "cell_type": "markdown",
   "id": "97cee662",
   "metadata": {},
   "source": [
    "### Step 5: Visualize using PCA (3 marks)"
   ]
  },
  {
   "cell_type": "markdown",
   "id": "4eed3fd7",
   "metadata": {},
   "source": [
    "Now you can visualize the results from Step 4 using PCA. Use the best parameters from the previous step to predict the label for the testing data. For the plot, each data point must be colored based on the class label."
   ]
  },
  {
   "cell_type": "code",
   "execution_count": 33,
   "id": "1dc2310c",
   "metadata": {},
   "outputs": [],
   "source": [
    "# TODO: Predict y labels using best estimator\n",
    "\n",
    "LogReg_best = LogisticRegression(max_iter = 5000, C = 10, fit_intercept = True)\n",
    "LogReg_best.fit(X_train_scl, y_train)\n",
    "\n",
    "y_pred = LogReg_best.predict(X_test_scl)"
   ]
  },
  {
   "cell_type": "code",
   "execution_count": 53,
   "id": "6a3416d3",
   "metadata": {},
   "outputs": [],
   "source": [
    "# TODO: Reduce dimensions of test data for plotting\n",
    "\n",
    "from sklearn.decomposition import PCA\n",
    "\n",
    "pca = PCA(2)\n",
    "X_red = pca.fit_transform(X_test_scl)"
   ]
  },
  {
   "cell_type": "code",
   "execution_count": 54,
   "id": "5317451f",
   "metadata": {},
   "outputs": [
    {
     "data": {
      "text/plain": [
       "<matplotlib.colorbar.Colorbar at 0x22bd2d19690>"
      ]
     },
     "execution_count": 54,
     "metadata": {},
     "output_type": "execute_result"
    },
    {
     "data": {
      "image/png": "[encoded data removed]",
      "text/plain": [
       "<Figure size 640x480 with 2 Axes>"
      ]
     },
     "metadata": {},
     "output_type": "display_data"
    }
   ],
   "source": [
    "# TODO: Plot test points colored by predicted label\n",
    "\n",
    "scatter = plt.scatter(X_red[:, 0], X_red[:, 1], c = y_pred, cmap = 'viridis')\n",
    "plt.xlabel('First PC')\n",
    "plt.ylabel('Second PC')\n",
    "plt.title('PCA Visualization')\n",
    "plt.colorbar()"
   ]
  },
  {
   "cell_type": "markdown",
   "id": "296ea401",
   "metadata": {},
   "source": [
    "#### Questions (4 marks)\n",
    "\n",
    "1. Did the logistic regression model work well for this dataset? Why would you make this conclusion? *(2 marks)*\n",
    "\n",
    "With a cross validation score of 0.936 and test score of 0.962, it appears the model works well. The test score is higher than the training score and the training and validaiton score are close, and the model shows low bias and low variance.\n",
    "\n",
    "1. Did PCA work well for this model? How does this relate to the results from the model used? *(2 marks)*\n",
    "\n",
    "Because we got a high test score, our model did a great job predicting labels. The graph shows each label in its own part of the chart. PCA helps by simplifying the features and reduces the dimensions of a feature matrix by creating a new vector that represents all feature, and it works well with straight-line datasets. So, since PCA and logistic regression worked well, it's likely our dataset is linear.\n",
    "\n",
    "*ANSWER HERE*"
   ]
  },
  {
   "cell_type": "markdown",
   "id": "c88a3cf1",
   "metadata": {},
   "source": [
    "### Process Description (4 marks)\n",
    "Please describe the process you used to create your code. Cite any websites or generative AI tools used. You can use the following questions as guidance:\n",
    "1. Where did you source your code?\n",
    "\n",
    "https://archive.ics.uci.edu/dataset/236/seeds\n",
    "\n",
    "1. In what order did you complete the steps?\n",
    "\n",
    "I began by loading the dataset and then scaled it using StandardScaler for preprocessing. Next, I divided the data, created a LogisticRegression model, and conducted a grid search to find optimal parameters. Cross-validation was employed to utilize all data sections for training. With the best parameters, a new LogisticRegression model was instantiated, and label predictions were made. Lastly, I applied PCA to reduce dimensions to 2 features and plotted the predicted labels along with the principal components.\n",
    "\n",
    "1. If you used generative AI, what prompts did you use? Did you need to modify the code at all? Why or why not?\n",
    "\n",
    "I did not use it, as most of the information was available in the labs.\n",
    "\n",
    "1. Did you have any challenges? If yes, what were they? If not, what helped you to be successful?\n",
    "\n",
    "I used online search to understand some ideas when they are not clear."
   ]
  },
  {
   "cell_type": "markdown",
   "id": "d8336341",
   "metadata": {},
   "source": [
    "*DESCRIBE YOUR PROCESS HERE*"
   ]
  },
  {
   "cell_type": "markdown",
   "id": "3bf578b1",
   "metadata": {},
   "source": [
    "## Part 2. Implement clustering (20 marks)"
   ]
  },
  {
   "cell_type": "markdown",
   "id": "937cb37b",
   "metadata": {},
   "source": [
    "The agricultural company approaches you again because they lost all the labels for their data. Use the Kmeans clustering method to assign labels to the seeds dataset used in Part 1."
   ]
  },
  {
   "cell_type": "markdown",
   "id": "980c62e1",
   "metadata": {},
   "source": [
    "### Step 1: Cluster using original data (6 marks)\n",
    "\n",
    "This part of the assignment asks you to implement Kmeans clustering using the orginal feature matrix (after scaling has been performed). "
   ]
  },
  {
   "cell_type": "code",
   "execution_count": 44,
   "id": "e2c441df",
   "metadata": {},
   "outputs": [],
   "source": [
    "# TODO: Scale feature matrix\n",
    "\n",
    "scaler = StandardScaler()\n",
    "scaler.fit(X)\n",
    "X_scl = scaler.transform(X)"
   ]
  },
  {
   "cell_type": "markdown",
   "id": "6efb7a1b",
   "metadata": {},
   "source": [
    "The first step is to use the elbow method to determine the optimal number of clusters. In this case, you can use the distortion metric."
   ]
  },
  {
   "cell_type": "code",
   "execution_count": 47,
   "id": "5f85da0b",
   "metadata": {},
   "outputs": [
    {
     "name": "stderr",
     "output_type": "stream",
     "text": [
      "c:\\Users\\Asus\\.conda\\envs\\ensf-ml\\Lib\\site-packages\\sklearn\\cluster\\_kmeans.py:1436: UserWarning: KMeans is known to have a memory leak on Windows with MKL, when there are less chunks than available threads. You can avoid it by setting the environment variable OMP_NUM_THREADS=1.\n",
      "  warnings.warn(\n",
      "c:\\Users\\Asus\\.conda\\envs\\ensf-ml\\Lib\\site-packages\\sklearn\\cluster\\_kmeans.py:1436: UserWarning: KMeans is known to have a memory leak on Windows with MKL, when there are less chunks than available threads. You can avoid it by setting the environment variable OMP_NUM_THREADS=1.\n",
      "  warnings.warn(\n",
      "c:\\Users\\Asus\\.conda\\envs\\ensf-ml\\Lib\\site-packages\\sklearn\\cluster\\_kmeans.py:1436: UserWarning: KMeans is known to have a memory leak on Windows with MKL, when there are less chunks than available threads. You can avoid it by setting the environment variable OMP_NUM_THREADS=1.\n",
      "  warnings.warn(\n",
      "c:\\Users\\Asus\\.conda\\envs\\ensf-ml\\Lib\\site-packages\\sklearn\\cluster\\_kmeans.py:1436: UserWarning: KMeans is known to have a memory leak on Windows with MKL, when there are less chunks than available threads. You can avoid it by setting the environment variable OMP_NUM_THREADS=1.\n",
      "  warnings.warn(\n",
      "c:\\Users\\Asus\\.conda\\envs\\ensf-ml\\Lib\\site-packages\\sklearn\\cluster\\_kmeans.py:1436: UserWarning: KMeans is known to have a memory leak on Windows with MKL, when there are less chunks than available threads. You can avoid it by setting the environment variable OMP_NUM_THREADS=1.\n",
      "  warnings.warn(\n",
      "c:\\Users\\Asus\\.conda\\envs\\ensf-ml\\Lib\\site-packages\\sklearn\\cluster\\_kmeans.py:1436: UserWarning: KMeans is known to have a memory leak on Windows with MKL, when there are less chunks than available threads. You can avoid it by setting the environment variable OMP_NUM_THREADS=1.\n",
      "  warnings.warn(\n",
      "c:\\Users\\Asus\\.conda\\envs\\ensf-ml\\Lib\\site-packages\\sklearn\\cluster\\_kmeans.py:1436: UserWarning: KMeans is known to have a memory leak on Windows with MKL, when there are less chunks than available threads. You can avoid it by setting the environment variable OMP_NUM_THREADS=1.\n",
      "  warnings.warn(\n",
      "c:\\Users\\Asus\\.conda\\envs\\ensf-ml\\Lib\\site-packages\\sklearn\\cluster\\_kmeans.py:1436: UserWarning: KMeans is known to have a memory leak on Windows with MKL, when there are less chunks than available threads. You can avoid it by setting the environment variable OMP_NUM_THREADS=1.\n",
      "  warnings.warn(\n"
     ]
    },
    {
     "data": {
      "image/png": "[encoded data removed]",
      "text/plain": [
       "<Figure size 640x480 with 1 Axes>"
      ]
     },
     "metadata": {},
     "output_type": "display_data"
    }
   ],
   "source": [
    "# TODO: Use the elbow method to determine the optimal number of clusters\n",
    "\n",
    "from sklearn.cluster import KMeans\n",
    "\n",
    "inertia = []\n",
    "for n_clusters in range(2, 10):\n",
    "    kmeans = KMeans(n_clusters = n_clusters, random_state = 42, n_init= 10).fit(X_scl)\n",
    "    inertia.append(kmeans.inertia_ )\n",
    "    \n",
    "inertias = pd.DataFrame({'n_clusters': range(2, 10), 'inertia': inertia})\n",
    "ax = inertias.plot(x='n_clusters', y='inertia')\n",
    "\n",
    "#n_clusters = 3 is where bend appears\n",
    "\n",
    "plt.xlabel('Total Number of clusters')\n",
    "plt.ylabel('Calculated Interia')\n",
    "plt.title('Elbow method')\n",
    "plt.ylim((0, 1.1 * inertias.inertia.max()))\n",
    "plt.grid(True)\n",
    "ax.legend().set_visible(False)\n"
   ]
  },
  {
   "cell_type": "markdown",
   "id": "be361544",
   "metadata": {},
   "source": [
    "Next, implement Kmeans and calculate the following validation metrics:\n",
    "- Silhouette score\n",
    "- Calinski-Harabasz score\n",
    "- Davies-Bouldin score"
   ]
  },
  {
   "cell_type": "code",
   "execution_count": 48,
   "id": "da40bf77",
   "metadata": {},
   "outputs": [
    {
     "name": "stderr",
     "output_type": "stream",
     "text": [
      "c:\\Users\\Asus\\.conda\\envs\\ensf-ml\\Lib\\site-packages\\sklearn\\cluster\\_kmeans.py:1436: UserWarning: KMeans is known to have a memory leak on Windows with MKL, when there are less chunks than available threads. You can avoid it by setting the environment variable OMP_NUM_THREADS=1.\n",
      "  warnings.warn(\n"
     ]
    }
   ],
   "source": [
    "# TODO: Implement K-means with the number of clusters determined in the previous step\n",
    "\n",
    "kmeans_model = KMeans(n_clusters = 3, random_state = 42, n_init= 10).fit(X_scl)"
   ]
  },
  {
   "cell_type": "code",
   "execution_count": 55,
   "id": "085dc51c",
   "metadata": {},
   "outputs": [
    {
     "name": "stdout",
     "output_type": "stream",
     "text": [
      "Silhouette score: 0.40072705527512986\n",
      "Calinski-Harabasz score: 249.7841749161647\n",
      "Davies-Bouldin score: 0.9278712249013426\n"
     ]
    }
   ],
   "source": [
    "# TODO: Calculate the three different validation metrics\n",
    "\n",
    "from sklearn.metrics import silhouette_score\n",
    "from sklearn.metrics import calinski_harabasz_score\n",
    "from sklearn.metrics import davies_bouldin_score\n",
    "\n",
    "labels = kmeans_model.labels_\n",
    "\n",
    "sil_scr = silhouette_score(X_scl, labels)\n",
    "cal_har_scr = calinski_harabasz_score(X_scl, labels)\n",
    "dav_boul_scr = davies_bouldin_score(X_scl, labels)\n",
    "\n",
    "print('Silhouette score:', sil_scr)\n",
    "print('Calinski-Harabasz score:', cal_har_scr)\n",
    "print('Davies-Bouldin score:', dav_boul_scr)"
   ]
  },
  {
   "cell_type": "markdown",
   "id": "40e40c04",
   "metadata": {},
   "source": [
    "Plot the clustering results using PCA. Remember to color each data point based on the cluster label."
   ]
  },
  {
   "cell_type": "code",
   "execution_count": 56,
   "id": "47012908",
   "metadata": {},
   "outputs": [
    {
     "data": {
      "text/plain": [
       "<matplotlib.colorbar.Colorbar at 0x22bd44099d0>"
      ]
     },
     "execution_count": 56,
     "metadata": {},
     "output_type": "execute_result"
    },
    {
     "data": {
      "image/png": "[encoded data removed]",
      "text/plain": [
       "<Figure size 640x480 with 2 Axes>"
      ]
     },
     "metadata": {},
     "output_type": "display_data"
    }
   ],
   "source": [
    "# TODO: Plot clustering results\n",
    "\n",
    "pca = PCA(2)\n",
    "X_red = pca.fit_transform(X_scl)\n",
    "\n",
    "plt.scatter(X_red[:, 0], X_red[:, 1], c = labels, cmap = 'viridis', edgecolor='black')\n",
    "plt.title('Clustering Results 2 PC')\n",
    "plt.xlabel('First PC')\n",
    "plt.ylabel('Second PC')\n",
    "plt.colorbar()"
   ]
  },
  {
   "cell_type": "markdown",
   "id": "48df428e",
   "metadata": {},
   "source": [
    "### Step 2: Cluster using PCA-transformed data (4 marks)\n",
    "\n",
    "Implement Kmeans clustering using PCA-transformed data. The first step is to use the explained variance ratio to find the number of components required to explain at least 95% of the variance."
   ]
  },
  {
   "cell_type": "code",
   "execution_count": 59,
   "id": "de0a5d80",
   "metadata": {},
   "outputs": [
    {
     "name": "stdout",
     "output_type": "stream",
     "text": [
      "Number of PC Needed: 3\n"
     ]
    }
   ],
   "source": [
    "# TODO: Find the number of principal components using explained variance ratio\n",
    "\n",
    "pca = PCA().fit(X_scl)\n",
    "\n",
    "# To use the attribute explained_variance_ratio of pca\n",
    "variance = pca.explained_variance_ratio_.cumsum()\n",
    "comp_num = 0\n",
    "for comp in variance:\n",
    "    if (comp >= 0.95):\n",
    "        break\n",
    "    else:\n",
    "        comp_num += 1\n",
    "\n",
    "#As we started on 0 we must add 1 to the result\n",
    "comp_num += 1\n",
    "print('Number of PC Needed:', comp_num)"
   ]
  },
  {
   "cell_type": "markdown",
   "id": "8af06a41",
   "metadata": {},
   "source": [
    "Next, transform the data using PCA, implement Kmeans and calculate the three validation metrics used in the previous step."
   ]
  },
  {
   "cell_type": "code",
   "execution_count": 64,
   "id": "3ed38b89",
   "metadata": {},
   "outputs": [],
   "source": [
    "# TODO: Use PCA to transform the data\n",
    "\n",
    "pca = PCA(comp_num).fit(X_scl)\n",
    "X_red = pca.transform(X_scl)\n"
   ]
  },
  {
   "cell_type": "code",
   "execution_count": 65,
   "id": "cc8b981e",
   "metadata": {},
   "outputs": [
    {
     "name": "stderr",
     "output_type": "stream",
     "text": [
      "c:\\Users\\Asus\\.conda\\envs\\ensf-ml\\Lib\\site-packages\\sklearn\\cluster\\_kmeans.py:1436: UserWarning: KMeans is known to have a memory leak on Windows with MKL, when there are less chunks than available threads. You can avoid it by setting the environment variable OMP_NUM_THREADS=1.\n",
      "  warnings.warn(\n"
     ]
    }
   ],
   "source": [
    "# TODO: Implement K-means with the transformed data\n",
    "\n",
    "\n",
    "kmeans_mdl = KMeans(n_clusters = 3, random_state = 42, n_init = 10).fit(X_red)"
   ]
  },
  {
   "cell_type": "code",
   "execution_count": 68,
   "id": "f5a3bf4b",
   "metadata": {},
   "outputs": [
    {
     "name": "stdout",
     "output_type": "stream",
     "text": [
      "Silhouette score: 0.4100823639350388\n",
      "Calinski-Harabasz score: 260.2885065635679\n",
      "Davies-Bouldin score: 0.9030688438741872\n"
     ]
    }
   ],
   "source": [
    "# TODO: Calculate the three different validation metrics\n",
    "\n",
    "labels = kmeans_mdl.labels_\n",
    "\n",
    "sil_scr2 = silhouette_score(X_red, labels)\n",
    "cal_har_scr2 = calinski_harabasz_score(X_red, labels)\n",
    "dav_boul_scr2 = davies_bouldin_score(X_red, labels)\n",
    "\n",
    "print('Silhouette score:', sil_scr2)\n",
    "print('Calinski-Harabasz score:', cal_har_scr2)\n",
    "print('Davies-Bouldin score:', dav_boul_scr2)"
   ]
  },
  {
   "cell_type": "markdown",
   "id": "50eb5219",
   "metadata": {},
   "source": [
    "### Step 3: Display results (2 marks)\n",
    "\n",
    "Print the results for Steps 2 and 3 in a table. Include column and row labels"
   ]
  },
  {
   "cell_type": "code",
   "execution_count": 69,
   "id": "6c945947",
   "metadata": {},
   "outputs": [
    {
     "data": {
      "text/html": [
       "<div>\n",
       "<style scoped>\n",
       "    .dataframe tbody tr th:only-of-type {\n",
       "        vertical-align: middle;\n",
       "    }\n",
       "\n",
       "    .dataframe tbody tr th {\n",
       "        vertical-align: top;\n",
       "    }\n",
       "\n",
       "    .dataframe thead th {\n",
       "        text-align: right;\n",
       "    }\n",
       "</style>\n",
       "<table border=\"1\" class=\"dataframe\">\n",
       "  <thead>\n",
       "    <tr style=\"text-align: right;\">\n",
       "      <th></th>\n",
       "      <th>Silhouette Score</th>\n",
       "      <th>Calinski-Harabasz Score</th>\n",
       "      <th>Davies-Bouldin Score</th>\n",
       "    </tr>\n",
       "  </thead>\n",
       "  <tbody>\n",
       "    <tr>\n",
       "      <th>No PCA</th>\n",
       "      <td>0.400727</td>\n",
       "      <td>249.784175</td>\n",
       "      <td>0.927871</td>\n",
       "    </tr>\n",
       "    <tr>\n",
       "      <th>With PCA</th>\n",
       "      <td>0.410082</td>\n",
       "      <td>260.288507</td>\n",
       "      <td>0.903069</td>\n",
       "    </tr>\n",
       "  </tbody>\n",
       "</table>\n",
       "</div>"
      ],
      "text/plain": [
       "          Silhouette Score  Calinski-Harabasz Score  Davies-Bouldin Score\n",
       "No PCA            0.400727               249.784175              0.927871\n",
       "With PCA          0.410082               260.288507              0.903069"
      ]
     },
     "execution_count": 69,
     "metadata": {},
     "output_type": "execute_result"
    }
   ],
   "source": [
    "# TODO: Display results\n",
    "\n",
    "all_results = [[sil_scr, cal_har_scr, dav_boul_scr],[sil_scr2, cal_har_scr2, dav_boul_scr2]]\n",
    "results = pd.DataFrame(all_results, columns=[\"Silhouette Score\", \"Calinski-Harabasz Score\", \"Davies-Bouldin Score\"],\n",
    "                       index=['No PCA', 'With PCA'])\n",
    "\n",
    "\n",
    "results"
   ]
  },
  {
   "cell_type": "markdown",
   "id": "e1086de9",
   "metadata": {},
   "source": [
    "#### Questions (4 marks)\n",
    "\n",
    "1. Did the optimal number of clusters make sense based on the context? *(1 mark)*\n",
    "\n",
    "It's evident that there are three classes. Therefore, it makes sense for our optimal number of clusters to be three.\n",
    "\n",
    "1. Compare the PCA plot from Part 2 step 1 to the PCA plot from Part 1. Did we get similar results? *(1 mark)*\n",
    "\n",
    "Indeed, we obtained comparable results. The only distinction is that the PCA plot in part 1 has fewer data points than the PCA plot in part 2, as we only utilized a small portion of the dataset for testing in part 1.\n",
    "\n",
    "1. How many components did you use for the PCA analysis? Did using PCA improve your results? Why or why not? *(2 marks)*\n",
    "\n",
    "I utilized 3 components to achieve 95% of the variance, and employing PCA positively impacted my results. The silhouette score is now closer to one, the Calinski-Harbasz score is higher, and the Davies-Bouldin score is closer to 1 with PCA. These changes suggest denser and more well-separated clusters.\n",
    "\n",
    "PCA contributes to these improvements by reducing dimensionality, providing a more efficient data representation. It is particularly beneficial for clustering problems because it decreases features while retaining most of the variance, in our case, 95%. This reduction in features enhances cluster separation as PCA captures the directions of maximum variance.\n",
    "\n",
    "*ANSWER HERE*"
   ]
  },
  {
   "cell_type": "markdown",
   "id": "521489ee",
   "metadata": {},
   "source": [
    "### Process Description (4 marks)\n",
    "Please describe the process you used to create your code. Cite any websites or generative AI tools used. You can use the following questions as guidance:\n",
    "1. Where did you source your code?\n",
    "\n",
    "https://archive.ics.uci.edu/dataset/\n",
    "\n",
    "1. In what order did you complete the steps?\n",
    "\n",
    "Initially, we applied a StandardScaler transformation to the entire feature matrix. Subsequently, we identified the optimal number of clusters using the elbow method. Following that, we instantiated a KMeans model with the optimal cluster count and calculated the silhouette score, Calinski-Harbasz score, and Davies-Bouldin score. The clustering results were then plotted.\n",
    "\n",
    "Moving on to the next phase, we determined the number of PCA components needed to capture 95% of the variance. We reduced the data to this determined number of PCA components and instantiated a KMeans model. We then evaluated the silhouette score, Calinski-Harbasz score, and Davies-Bouldin score. Finally, we presented the results, including silhouette score, Calinski-Harbasz score, and Davies-Bouldin score, both with and without PCA, in a dataframe.\n",
    "\n",
    "1. If you used generative AI, what prompts did you use? Did you need to modify the code at all? Why or why not?\n",
    "\n",
    "I did not use it, as most of the information was available in the labs.\n",
    "\n",
    "1. Did you have any challenges? If yes, what were they? If not, what helped you to be successful?\n",
    "\n",
    "I used online search to understand some ideas when they are not clear.\n"
   ]
  },
  {
   "cell_type": "markdown",
   "id": "e4ae4b12",
   "metadata": {},
   "source": [
    "*DESCRIBE YOUR PROCESS HERE*"
   ]
  },
  {
   "cell_type": "markdown",
   "id": "05e42ec7",
   "metadata": {},
   "source": [
    "## Part 3: Reflection (2 marks)\n",
    "Include a sentence or two about:\n",
    "- what you liked or disliked,\n",
    "\n",
    "The assignment is linear and guided, it helps to understand the questions in a step by step manner.\n",
    "\n",
    "\n",
    "- found interesting, confusing, challangeing, motivating\n",
    "while working on this assignment.\n",
    "\n",
    "Understanding the technical calculations or what is happening to dataset is sometimes difficult when we process it.\n",
    "\n",
    "\n",
    "*ADD YOUR THOUGHTS HERE*"
   ]
  },
  {
   "cell_type": "code",
   "execution_count": null,
   "id": "a9755613",
   "metadata": {},
   "outputs": [],
   "source": []
  }
 ],
 "metadata": {
  "kernelspec": {
   "display_name": "Python 3 (ipykernel)",
   "language": "python",
   "name": "python3"
  },
  "language_info": {
   "codemirror_mode": {
    "name": "ipython",
    "version": 3
   },
   "file_extension": ".py",
   "mimetype": "text/x-python",
   "name": "python",
   "nbconvert_exporter": "python",
   "pygments_lexer": "ipython3",
   "version": "3.11.5"
  }
 },
 "nbformat": 4,
 "nbformat_minor": 5
}
