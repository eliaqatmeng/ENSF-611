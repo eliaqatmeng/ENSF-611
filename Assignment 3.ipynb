{
 "cells": [
  {
   "cell_type": "markdown",
   "id": "92778525",
   "metadata": {},
   "source": [
    "# Assignment 3: Non-Linear Models and Validation Metrics (37 total marks)\n",
    "### Due: October 24 at 11:59pm\n",
    "\n",
    "### Name: Ehsan Liaqat"
   ]
  },
  {
   "cell_type": "markdown",
   "id": "ce31b39a",
   "metadata": {},
   "source": [
    "### In this assignment, you will need to write code that uses non-linear models to perform classification and regression tasks. You will also be asked to describe the process by which you came up with the code. More details can be found below. Please cite any websites or AI tools that you used to help you with this assignment."
   ]
  },
  {
   "cell_type": "markdown",
   "id": "cf275ca7",
   "metadata": {},
   "source": [
    "### Import Libraries"
   ]
  },
  {
   "cell_type": "code",
   "execution_count": 97,
   "id": "2b67a661",
   "metadata": {},
   "outputs": [],
   "source": [
    "import numpy as np\n",
    "import pandas as pd\n",
    "import matplotlib.pyplot as plt\n",
    "import seaborn as sns"
   ]
  },
  {
   "cell_type": "markdown",
   "id": "5ee2d2c3",
   "metadata": {},
   "source": [
    "## Part 1: Regression (14.5 marks)\n",
    "\n",
    "For this section, we will be continuing with the concrete example from yellowbrick. You will need to compare these results to the results from the previous assignment. Please use the results from the solution if you were unable to complete Assignment 2"
   ]
  },
  {
   "cell_type": "markdown",
   "id": "8219f163",
   "metadata": {},
   "source": [
    "### Step 1: Data Input (0.5 marks)\n",
    "\n",
    "The data used for this task can be downloaded using the yellowbrick library: \n",
    "https://www.scikit-yb.org/en/latest/api/datasets/concrete.html\n",
    "\n",
    "Use the yellowbrick function `load_concrete()` to load the concrete dataset into the feature matrix `X` and target vector `y`."
   ]
  },
  {
   "cell_type": "code",
   "execution_count": 98,
   "id": "2af8bd32",
   "metadata": {},
   "outputs": [],
   "source": [
    "# TO DO: Import concrete dataset from yellowbrick library\n",
    "\n",
    "from yellowbrick.datasets import load_concrete\n",
    "X,y = load_concrete()\n",
    "#print(X)\n",
    "#print(y)"
   ]
  },
  {
   "cell_type": "markdown",
   "id": "42fea4cc",
   "metadata": {},
   "source": [
    "### Step 2: Data Processing (0 marks)\n",
    "\n",
    "Data processing was completed in the previous assignment. No need to repeat here."
   ]
  },
  {
   "cell_type": "markdown",
   "id": "2a245d00",
   "metadata": {},
   "source": [
    "### Step 3: Implement Machine Learning Model\n",
    "\n",
    "1. Import the Decision Tree, Random Forest and Gradient Boosting Machines regression models from sklearn\n",
    "2. Instantiate the three models with `max_depth = 5`. Are there any other parameters that you will need to set?\n",
    "3. Implement each machine learning model with `X` and `y`"
   ]
  },
  {
   "cell_type": "code",
   "execution_count": 99,
   "id": "c2495b85",
   "metadata": {},
   "outputs": [
    {
     "data": {
      "text/html": [
       "<style>#sk-container-id-2 {color: black;}#sk-container-id-2 pre{padding: 0;}#sk-container-id-2 div.sk-toggleable {background-color: white;}#sk-container-id-2 label.sk-toggleable__label {cursor: pointer;display: block;width: 100%;margin-bottom: 0;padding: 0.3em;box-sizing: border-box;text-align: center;}#sk-container-id-2 label.sk-toggleable__label-arrow:before {content: \"▸\";float: left;margin-right: 0.25em;color: #696969;}#sk-container-id-2 label.sk-toggleable__label-arrow:hover:before {color: black;}#sk-container-id-2 div.sk-estimator:hover label.sk-toggleable__label-arrow:before {color: black;}#sk-container-id-2 div.sk-toggleable__content {max-height: 0;max-width: 0;overflow: hidden;text-align: left;background-color: #f0f8ff;}#sk-container-id-2 div.sk-toggleable__content pre {margin: 0.2em;color: black;border-radius: 0.25em;background-color: #f0f8ff;}#sk-container-id-2 input.sk-toggleable__control:checked~div.sk-toggleable__content {max-height: 200px;max-width: 100%;overflow: auto;}#sk-container-id-2 input.sk-toggleable__control:checked~label.sk-toggleable__label-arrow:before {content: \"▾\";}#sk-container-id-2 div.sk-estimator input.sk-toggleable__control:checked~label.sk-toggleable__label {background-color: #d4ebff;}#sk-container-id-2 div.sk-label input.sk-toggleable__control:checked~label.sk-toggleable__label {background-color: #d4ebff;}#sk-container-id-2 input.sk-hidden--visually {border: 0;clip: rect(1px 1px 1px 1px);clip: rect(1px, 1px, 1px, 1px);height: 1px;margin: -1px;overflow: hidden;padding: 0;position: absolute;width: 1px;}#sk-container-id-2 div.sk-estimator {font-family: monospace;background-color: #f0f8ff;border: 1px dotted black;border-radius: 0.25em;box-sizing: border-box;margin-bottom: 0.5em;}#sk-container-id-2 div.sk-estimator:hover {background-color: #d4ebff;}#sk-container-id-2 div.sk-parallel-item::after {content: \"\";width: 100%;border-bottom: 1px solid gray;flex-grow: 1;}#sk-container-id-2 div.sk-label:hover label.sk-toggleable__label {background-color: #d4ebff;}#sk-container-id-2 div.sk-serial::before {content: \"\";position: absolute;border-left: 1px solid gray;box-sizing: border-box;top: 0;bottom: 0;left: 50%;z-index: 0;}#sk-container-id-2 div.sk-serial {display: flex;flex-direction: column;align-items: center;background-color: white;padding-right: 0.2em;padding-left: 0.2em;position: relative;}#sk-container-id-2 div.sk-item {position: relative;z-index: 1;}#sk-container-id-2 div.sk-parallel {display: flex;align-items: stretch;justify-content: center;background-color: white;position: relative;}#sk-container-id-2 div.sk-item::before, #sk-container-id-2 div.sk-parallel-item::before {content: \"\";position: absolute;border-left: 1px solid gray;box-sizing: border-box;top: 0;bottom: 0;left: 50%;z-index: -1;}#sk-container-id-2 div.sk-parallel-item {display: flex;flex-direction: column;z-index: 1;position: relative;background-color: white;}#sk-container-id-2 div.sk-parallel-item:first-child::after {align-self: flex-end;width: 50%;}#sk-container-id-2 div.sk-parallel-item:last-child::after {align-self: flex-start;width: 50%;}#sk-container-id-2 div.sk-parallel-item:only-child::after {width: 0;}#sk-container-id-2 div.sk-dashed-wrapped {border: 1px dashed gray;margin: 0 0.4em 0.5em 0.4em;box-sizing: border-box;padding-bottom: 0.4em;background-color: white;}#sk-container-id-2 div.sk-label label {font-family: monospace;font-weight: bold;display: inline-block;line-height: 1.2em;}#sk-container-id-2 div.sk-label-container {text-align: center;}#sk-container-id-2 div.sk-container {/* jupyter's `normalize.less` sets `[hidden] { display: none; }` but bootstrap.min.css set `[hidden] { display: none !important; }` so we also need the `!important` here to be able to override the default hidden behavior on the sphinx rendered scikit-learn.org. See: https://github.com/scikit-learn/scikit-learn/issues/21755 */display: inline-block !important;position: relative;}#sk-container-id-2 div.sk-text-repr-fallback {display: none;}</style><div id=\"sk-container-id-2\" class=\"sk-top-container\"><div class=\"sk-text-repr-fallback\"><pre>GradientBoostingRegressor(max_depth=5, random_state=0)</pre><b>In a Jupyter environment, please rerun this cell to show the HTML representation or trust the notebook. <br />On GitHub, the HTML representation is unable to render, please try loading this page with nbviewer.org.</b></div><div class=\"sk-container\" hidden><div class=\"sk-item\"><div class=\"sk-estimator sk-toggleable\"><input class=\"sk-toggleable__control sk-hidden--visually\" id=\"sk-estimator-id-2\" type=\"checkbox\" checked><label for=\"sk-estimator-id-2\" class=\"sk-toggleable__label sk-toggleable__label-arrow\">GradientBoostingRegressor</label><div class=\"sk-toggleable__content\"><pre>GradientBoostingRegressor(max_depth=5, random_state=0)</pre></div></div></div></div></div>"
      ],
      "text/plain": [
       "GradientBoostingRegressor(max_depth=5, random_state=0)"
      ]
     },
     "execution_count": 99,
     "metadata": {},
     "output_type": "execute_result"
    }
   ],
   "source": [
    "from sklearn.model_selection import train_test_split\n",
    "from sklearn.ensemble import RandomForestRegressor\n",
    "from sklearn.ensemble import GradientBoostingRegressor\n",
    "from sklearn.tree import DecisionTreeRegressor\n",
    "\n",
    "#split the data\n",
    "\n",
    "X_tr, X_val, y_tr, y_val = train_test_split(X,y, random_state=0)\n",
    "\n",
    "DT_model = DecisionTreeRegressor(random_state=0, max_depth=5)\n",
    "RF_model = RandomForestRegressor(random_state=0, max_depth=5)\n",
    "GB_model = GradientBoostingRegressor(random_state=0, max_depth=5)\n",
    "\n",
    "DT_model.fit(X_tr, y_tr)\n",
    "RF_model.fit(X_tr, y_tr)\n",
    "GB_model.fit(X_tr,y_tr)\n",
    "\n",
    "\n"
   ]
  },
  {
   "cell_type": "markdown",
   "id": "3f994e31",
   "metadata": {},
   "source": [
    "### Step 4: Validate Model\n",
    "\n",
    "Calculate the average training and validation accuracy using mean squared error with cross-validation. To do this, you will need to set `scoring='neg_mean_squared_error'` in your `cross_validate` function and negate the results (multiply by -1)"
   ]
  },
  {
   "cell_type": "code",
   "execution_count": 105,
   "id": "aa3e64c1",
   "metadata": {},
   "outputs": [
    {
     "name": "stdout",
     "output_type": "stream",
     "text": [
      "Decision Tree Train Score MSE = 47.27976\n",
      "Decision Tree Val Score MSE = 73.44733\n",
      "RandomForest Train Score MSE = 29.57745\n",
      "RandomForest Val Score MSE = 45.05935\n",
      "GradientBoosting Train Score MSE = 3.37944\n",
      "GradientBoosting Val Score MSE = 22.78322\n"
     ]
    }
   ],
   "source": [
    "from sklearn.model_selection import cross_validate\n",
    "\n",
    "score_DT_cval = cross_validate(DT_model, X_tr, y_tr, cv=5, scoring='neg_mean_squared_error', return_train_score=True)\n",
    "score_RF_cval = cross_validate(RF_model, X_tr, y_tr, cv=5, scoring='neg_mean_squared_error', return_train_score=True)\n",
    "score_GB_cval = cross_validate(GB_model, X_tr, y_tr, cv=5, scoring='neg_mean_squared_error', return_train_score=True)\n",
    "\n",
    "#print(score_DT_cval['train_score'].mean()*-1)\n",
    "#print(score_DT_cval['test_score'].mean()*-1)\n",
    "\n",
    "\n",
    "print(\"Decision Tree Train Score MSE = {:.5f}\".format(score_DT_cval['train_score'].mean()*-1))\n",
    "print(\"Decision Tree Val Score MSE = {:.5f}\".format(score_DT_cval['test_score'].mean()*-1))\n",
    "\n",
    "print(\"RandomForest Train Score MSE = {:.5f}\".format(score_RF_cval['train_score'].mean()*-1))\n",
    "print(\"RandomForest Val Score MSE = {:.5f}\".format(score_RF_cval['test_score'].mean()*-1))\n",
    "\n",
    "print(\"GradientBoosting Train Score MSE = {:.5f}\".format(score_GB_cval['train_score'].mean()*-1))\n",
    "print(\"GradientBoosting Val Score MSE = {:.5f}\".format(score_GB_cval['test_score'].mean()*-1))"
   ]
  },
  {
   "cell_type": "markdown",
   "id": "5fc3f7a8",
   "metadata": {},
   "source": [
    "### Step 5: Visualize Results (4 marks)\n",
    "\n",
    "1. Create a pandas DataFrame `results` with columns: Training accuracy and Validation accuracy, and index: DT, RF and GB\n",
    "2. Add the accuracy results to the `results` DataFrame\n",
    "3. Print `results`"
   ]
  },
  {
   "cell_type": "code",
   "execution_count": 102,
   "id": "fdc93a78",
   "metadata": {},
   "outputs": [
    {
     "name": "stdout",
     "output_type": "stream",
     "text": [
      "   training accuracy validation accuracy\n",
      "DT          47.27976            73.44733\n",
      "RF          29.57745            45.05935\n",
      "GB           3.37944            22.78322\n"
     ]
    }
   ],
   "source": [
    "# TO DO: ADD YOUR CODE HERE FOR STEPS 3-5\n",
    "# Note: for any random state parameters, you can use random_state = 0\n",
    "# HINT: USING A LOOP TO STORE THE DATA IN YOUR RESULTS DATAFRAME WILL BE MORE EFFICIENT\n",
    "\n",
    "columns_add = ['training accuracy', 'validation accuracy']\n",
    "ind_add = ['DT','RF','GB']\n",
    "model_cv = [score_DT_cval, score_RF_cval, score_GB_cval]\n",
    "\n",
    "results = pd.DataFrame(columns=columns_add, index = ind_add)\n",
    "\n",
    "for model, cv in zip(ind_add, model_cv):\n",
    "    results.loc[model] = [\"{:.5f}\".format(cv['train_score'].mean()*-1), \"{:.5f}\".format(cv['test_score'].mean()*-1)]\n",
    "\n",
    "print(results)\n"
   ]
  },
  {
   "cell_type": "markdown",
   "id": "31715a9d",
   "metadata": {},
   "source": [
    "Repeat the step above to print the R2 score instead of the mean-squared error. For this case, you can use `scoring='r2'`"
   ]
  },
  {
   "cell_type": "code",
   "execution_count": 106,
   "id": "83539f47",
   "metadata": {},
   "outputs": [
    {
     "name": "stdout",
     "output_type": "stream",
     "text": [
      "Decision Tree Train Score r2 = 0.83447\n",
      "Decision Tree Val Score r2 = 0.73870\n",
      "RandomForest Train Score r2 = 0.89656\n",
      "RandomForest Val Score r2 = 0.84093\n",
      "GradientBoosting Train Score r2 = 0.98817\n",
      "GradientBoosting Val Score r2 = 0.91947\n",
      "   training accuracy validation accuracy\n",
      "DT           0.83447             0.73870\n",
      "RF           0.89656             0.84093\n",
      "GB           0.98817             0.91947\n"
     ]
    }
   ],
   "source": [
    "# TO DO: ADD YOUR CODE HERE\n",
    "\n",
    "score_DT_cval = cross_validate(DT_model, X_tr, y_tr, cv=5, scoring='r2', return_train_score=True)\n",
    "score_RF_cval = cross_validate(RF_model, X_tr, y_tr, cv=5, scoring='r2', return_train_score=True)\n",
    "score_GB_cval = cross_validate(GB_model, X_tr, y_tr, cv=5, scoring='r2', return_train_score=True)\n",
    "\n",
    "#print(score_DT_cval['train_score'].mean()*-1)\n",
    "#print(score_DT_cval['test_score'].mean()*-1)\n",
    "\n",
    "\n",
    "print(\"Decision Tree Train Score r2 = {:.5f}\".format(score_DT_cval['train_score'].mean()))\n",
    "print(\"Decision Tree Val Score r2 = {:.5f}\".format(score_DT_cval['test_score'].mean()))\n",
    "\n",
    "print(\"RandomForest Train Score r2 = {:.5f}\".format(score_RF_cval['train_score'].mean()))\n",
    "print(\"RandomForest Val Score r2 = {:.5f}\".format(score_RF_cval['test_score'].mean()))\n",
    "\n",
    "print(\"GradientBoosting Train Score r2 = {:.5f}\".format(score_GB_cval['train_score'].mean()))\n",
    "print(\"GradientBoosting Val Score r2 = {:.5f}\".format(score_GB_cval['test_score'].mean()))\n",
    "\n",
    "columns_add = ['training accuracy', 'validation accuracy']\n",
    "ind_add = ['DT','RF','GB']\n",
    "model_cv = [score_DT_cval, score_RF_cval, score_GB_cval]\n",
    "\n",
    "results = pd.DataFrame(columns=columns_add, index = ind_add)\n",
    "\n",
    "for model, cv in zip(ind_add, model_cv):\n",
    "    results.loc[model] = [\"{:.5f}\".format(cv['train_score'].mean()), \"{:.5f}\".format(cv['test_score'].mean())]\n",
    "\n",
    "print(results)"
   ]
  },
  {
   "cell_type": "markdown",
   "id": "a5257a98",
   "metadata": {},
   "source": [
    "### Questions (6 marks)\n",
    "1. How do these results compare to the results using a linear model in the previous assignment? Use values.\n",
    "\n",
    "1. Out of the models you tested, which model would you select for this dataset and why?\n",
    "\n",
    "1. If you wanted to increase the accuracy of the tree-based models, what would you do? Provide two suggestions.\n",
    "\n",
    "\n",
    "*ANSWER HERE*\n",
    "\n",
    "1. Compared to the linear model used in the last assignment, we see a significant improvement using Decision Tree, Random Forest and Gradient Boosting. In the linear model from last assignment, we got R2 scores of 0.61 for training and 0.62 for validation and 111 MSE for training and 95 MSE for the validation. The non linear provide much higher R2 scores for training and validation. The best R2 score for training and validation are the following, 1st GradientBoost with 0.988 for training and 0.919 for validation, 2nd RandomForest with 0.896 for training and 0.840 for validation, 3rd DecisionTree with 0.834 for training and 0.738 for validation. For MSE, 1st GradientBoost with 3.379 for training and 22.783 for validation, 2nd RandomForest with 29.577 for training and 45.059 for validation, 3rd DecisionTree with 47.279 for training and 73.447 for validation\n",
    "2. The GradientBoost with R2 scores of 0.988 for training and 0.919 for validation and MSE of 3.379 for training and 22.783 for validation is the preferred model. It has very high performance in the training and good fit, not overfitting or underfitting.\n",
    "3. We can try different depth levels to see the model performance. With more depth, we have more nodes, which will increase model accuracy as there are more parameters that are testing. Another option is to increase n_estimators to increase how many trees can be generated which can increase accuracy."
   ]
  },
  {
   "cell_type": "markdown",
   "id": "37b238f4",
   "metadata": {},
   "source": [
    "### Process Description (4 marks)\n",
    "Please describe the process you used to create your code. Cite any websites or generative AI tools used. You can use the following questions as guidance:\n",
    "1. Where did you source your code?\n",
    "1. In what order did you complete the steps?\n",
    "1. If you used generative AI, what prompts did you use? Did you need to modify the code at all? Why or why not?\n",
    "1. Did you have any challenges? If yes, what were they? If not, what helped you to be successful?"
   ]
  },
  {
   "cell_type": "markdown",
   "id": "93097bfe",
   "metadata": {},
   "source": [
    "*DESCRIBE YOUR PROCESS HERE*\n",
    "1. I used the examples posted on the D2L to source my code.\n",
    "2. I completed my steps in sequence, one after another and followed the examples posted online.\n",
    "3. No I did not use generative AI since I didn't have time.\n",
    "4. Yes, trying understand the deeper details of how the models can increase accuracy for the same dataset."
   ]
  },
  {
   "cell_type": "markdown",
   "id": "f7c6de86",
   "metadata": {},
   "source": [
    "## Part 2: Classification (17.5 marks)\n",
    "\n",
    "You have been asked to develop code that can help the user classify different wine samples. Following the machine learning workflow described in class, write the relevant code in each of the steps below:"
   ]
  },
  {
   "cell_type": "markdown",
   "id": "5f9d33a8",
   "metadata": {},
   "source": [
    "### Step 1: Data Input (2 marks)\n",
    "\n",
    "The data used for this task can be downloaded from UCI: https://archive.ics.uci.edu/dataset/109/wine\n",
    "\n",
    "Use the pandas library to load the dataset. You must define the column headers if they are not included in the dataset \n",
    "\n",
    "You will need to split the dataset into feature matrix `X` and target vector `y`. Which column represents the target vector?\n",
    "\n",
    "Print the size and type of `X` and `y`"
   ]
  },
  {
   "cell_type": "code",
   "execution_count": 109,
   "id": "33583c67",
   "metadata": {},
   "outputs": [
    {
     "name": "stdout",
     "output_type": "stream",
     "text": [
      "2314 (178, 13) <class 'pandas.core.frame.DataFrame'>\n",
      "178 (178,) <class 'pandas.core.series.Series'>\n"
     ]
    }
   ],
   "source": [
    "# TO DO: Import wine dataset\n",
    "import os\n",
    "import requests\n",
    "\n",
    "def load_wine():\n",
    "\n",
    "    file_url = 'https://archive.ics.uci.edu/ml/machine-learning-databases/wine/wine.data'\n",
    "    file_name = file_url.split('/')[-1]\n",
    "    \n",
    "    if not os.path.isfile(file_name):\n",
    "        print('Downloading from {}'.format(file_url))\n",
    "        r = requests.get(file_url)\n",
    "        with open(file_name,'wb') as output_file:\n",
    "            output_file.write(r.content)\n",
    "        \n",
    "    data = pd.read_csv(file_name, \n",
    "                   na_values='?', \n",
    "                   names=['class', 'Alcohol', 'Malicacid', 'Ash', 'Alcalinity_of_ash', 'Magnesium',\n",
    "                            'Total_phenols', 'Flavanoids', 'Nonflavanoid_phenols', 'Proanthocyanins', 'Color_intensity',\n",
    "                            'Hue', '0D280_0D315_of_diluted_wines', 'Proline'])\n",
    "    \n",
    "    return data\n",
    "\n",
    "data = load_wine()\n",
    "\n",
    "X = data.drop(columns=['class'])\n",
    "y = data['class']\n",
    "\n",
    "print(X.size, X.shape, type(X))\n",
    "print(y.size, y.shape, type(y))"
   ]
  },
  {
   "cell_type": "markdown",
   "id": "156db208",
   "metadata": {},
   "source": [
    "### Step 2: Data Processing (1.5 marks)"
   ]
  },
  {
   "cell_type": "markdown",
   "id": "a28af110",
   "metadata": {},
   "source": [
    "Print the first five rows of the dataset to inspect:"
   ]
  },
  {
   "cell_type": "code",
   "execution_count": 110,
   "id": "ea266921",
   "metadata": {},
   "outputs": [
    {
     "name": "stdout",
     "output_type": "stream",
     "text": [
      "   class  Alcohol  Malicacid   Ash  Alcalinity_of_ash  Magnesium  \\\n",
      "0      1    14.23       1.71  2.43               15.6        127   \n",
      "1      1    13.20       1.78  2.14               11.2        100   \n",
      "2      1    13.16       2.36  2.67               18.6        101   \n",
      "3      1    14.37       1.95  2.50               16.8        113   \n",
      "4      1    13.24       2.59  2.87               21.0        118   \n",
      "\n",
      "   Total_phenols  Flavanoids  Nonflavanoid_phenols  Proanthocyanins  \\\n",
      "0           2.80        3.06                  0.28             2.29   \n",
      "1           2.65        2.76                  0.26             1.28   \n",
      "2           2.80        3.24                  0.30             2.81   \n",
      "3           3.85        3.49                  0.24             2.18   \n",
      "4           2.80        2.69                  0.39             1.82   \n",
      "\n",
      "   Color_intensity   Hue  0D280_0D315_of_diluted_wines  Proline  \n",
      "0             5.64  1.04                          3.92     1065  \n",
      "1             4.38  1.05                          3.40     1050  \n",
      "2             5.68  1.03                          3.17     1185  \n",
      "3             7.80  0.86                          3.45     1480  \n",
      "4             4.32  1.04                          2.93      735  \n"
     ]
    }
   ],
   "source": [
    "# TO DO: ADD YOUR CODE HERE\n",
    "print(data.head())"
   ]
  },
  {
   "cell_type": "markdown",
   "id": "834fc8fe",
   "metadata": {},
   "source": [
    "Check to see if there are any missing values in the dataset. If necessary, select an appropriate method to fill-in the missing values"
   ]
  },
  {
   "cell_type": "code",
   "execution_count": 111,
   "id": "97c6e9dc",
   "metadata": {},
   "outputs": [
    {
     "name": "stdout",
     "output_type": "stream",
     "text": [
      "class                           0\n",
      "Alcohol                         0\n",
      "Malicacid                       0\n",
      "Ash                             0\n",
      "Alcalinity_of_ash               0\n",
      "Magnesium                       0\n",
      "Total_phenols                   0\n",
      "Flavanoids                      0\n",
      "Nonflavanoid_phenols            0\n",
      "Proanthocyanins                 0\n",
      "Color_intensity                 0\n",
      "Hue                             0\n",
      "0D280_0D315_of_diluted_wines    0\n",
      "Proline                         0\n",
      "dtype: int64\n",
      "Total Null  0\n"
     ]
    }
   ],
   "source": [
    "# TO DO: ADD YOUR CODE HERE\n",
    "print(data.isnull().sum())\n",
    "\n",
    "print(\"Total Null \", data.isnull().sum().sum())"
   ]
  },
  {
   "cell_type": "markdown",
   "id": "070956af",
   "metadata": {},
   "source": [
    "How many samples do we have of each type of wine?"
   ]
  },
  {
   "cell_type": "code",
   "execution_count": 112,
   "id": "b37a6fd9",
   "metadata": {},
   "outputs": [
    {
     "name": "stdout",
     "output_type": "stream",
     "text": [
      "class\n",
      "2    71\n",
      "1    59\n",
      "3    48\n",
      "Name: count, dtype: int64\n"
     ]
    }
   ],
   "source": [
    "# TO DO: ADD YOUR CODE HERE\n",
    "\n",
    "print(y.value_counts())"
   ]
  },
  {
   "cell_type": "markdown",
   "id": "70e6c46f",
   "metadata": {},
   "source": [
    "### Step 3: Implement Machine Learning Model\n",
    "\n",
    "1. Import `SVC` and `DecisionTreeClassifier` from sklearn\n",
    "2. Instantiate models as `SVC()` and `DecisionTreeClassifier(max_depth = 3)`\n",
    "3. Implement the machine learning model with `X` and `y`"
   ]
  },
  {
   "cell_type": "code",
   "execution_count": 116,
   "id": "7528b185",
   "metadata": {},
   "outputs": [],
   "source": [
    "from sklearn.tree import DecisionTreeClassifier\n",
    "from sklearn.svm import SVC\n",
    "\n",
    "X_tr, X_val, y_tr, y_val = train_test_split(X,y, random_state=0)\n",
    "\n",
    "DTC_model = DecisionTreeClassifier(max_depth=3, random_state=0).fit(X_tr, y_tr)\n",
    "SVC_model = SVC(random_state=0).fit(X_tr, y_tr)\n"
   ]
  },
  {
   "cell_type": "markdown",
   "id": "0870b0d2",
   "metadata": {},
   "source": [
    "### Step 4: Validate Model \n",
    "\n",
    "Calculate the average training and validation accuracy using `cross_validate` for the two different models listed in Step 3. For this case, use `scoring='accuracy'`"
   ]
  },
  {
   "cell_type": "code",
   "execution_count": 118,
   "id": "ae738294",
   "metadata": {},
   "outputs": [
    {
     "name": "stdout",
     "output_type": "stream",
     "text": [
      "DecisionTreeClassifier Train Score Accuracy = 0.99436\n",
      "DecisionTreeClassifier Val Score Accuracy = 0.89402\n",
      "SVC Train Score Accuracy = 0.68043\n",
      "SVC Val Score Accuracy = 0.67664\n"
     ]
    }
   ],
   "source": [
    "score_DTC_cval = cross_validate(DTC_model, X_tr, y_tr, cv=5, scoring='accuracy', return_train_score=True)\n",
    "score_SVC_cval = cross_validate(SVC_model, X_tr, y_tr, cv=5, scoring='accuracy', return_train_score=True)\n",
    "\n",
    "#print(score_DT_cval['train_score'].mean()*-1)\n",
    "#print(score_DT_cval['test_score'].mean()*-1)\n",
    "\n",
    "print(\"DecisionTreeClassifier Train Score Accuracy = {:.5f}\".format(score_DTC_cval['train_score'].mean()))\n",
    "print(\"DecisionTreeClassifier Val Score Accuracy = {:.5f}\".format(score_DTC_cval['test_score'].mean()))\n",
    "\n",
    "\n",
    "print(\"SVC Train Score Accuracy = {:.5f}\".format(score_SVC_cval['train_score'].mean()))\n",
    "print(\"SVC Val Score Accuracy = {:.5f}\".format(score_SVC_cval['test_score'].mean()))\n"
   ]
  },
  {
   "cell_type": "markdown",
   "id": "bb0bbd83",
   "metadata": {},
   "source": [
    "### Step 5: Visualize Results (4 marks)\n",
    "\n",
    "#### Step 5.1: Compare Models\n",
    "1. Create a pandas DataFrame `results` with columns: Training accuracy and Validation accuracy\n",
    "2. Add the data size, training and validation accuracy for each dataset to the `results` DataFrame\n",
    "3. Print `results`"
   ]
  },
  {
   "cell_type": "code",
   "execution_count": 119,
   "id": "be4b5c0a",
   "metadata": {},
   "outputs": [
    {
     "name": "stdout",
     "output_type": "stream",
     "text": [
      "     data size training accuracy validation accuracy\n",
      "DTC  (133, 13)           0.99436             0.89402\n",
      "SVC  (133, 13)           0.68043             0.67664\n"
     ]
    }
   ],
   "source": [
    "# TO DO: ADD YOUR CODE HERE FOR STEPS 3-5\n",
    "# Note: for any random state parameters, you can use random_state = 0\n",
    "# HINT: USING A LOOP TO STORE THE DATA IN YOUR RESULTS DATAFRAME WILL BE MORE EFFICIENT\n",
    "\n",
    "columns_add = ['data size', 'training accuracy', 'validation accuracy']\n",
    "ind_add = ['DTC','SVC']\n",
    "model_cv = [score_DTC_cval, score_SVC_cval]\n",
    "\n",
    "results = pd.DataFrame(columns=columns_add, index = ind_add)\n",
    "\n",
    "for model, cv in zip(ind_add, model_cv):\n",
    "    results.loc[model] = [X_tr.shape, \"{:.5f}\".format(cv['train_score'].mean()), \"{:.5f}\".format(cv['test_score'].mean())]\n",
    "\n",
    "print(results)"
   ]
  },
  {
   "cell_type": "markdown",
   "id": "f2e17878",
   "metadata": {},
   "source": [
    "#### Step 5.2: Visualize Classification Errors\n",
    "Which method gave the highest accuracy? Use this method to print the confusion matrix and classification report:"
   ]
  },
  {
   "cell_type": "code",
   "execution_count": 120,
   "id": "44b091a4",
   "metadata": {},
   "outputs": [
    {
     "name": "stdout",
     "output_type": "stream",
     "text": [
      "[[14  2  0]\n",
      " [ 0 20  1]\n",
      " [ 0  0  8]]\n"
     ]
    }
   ],
   "source": [
    "# TO DO: Implement best model\n",
    "\n",
    "from sklearn.metrics import confusion_matrix\n",
    "\n",
    "mat = confusion_matrix(y_val, DTC_model.predict(X_val))\n",
    "print(mat)\n"
   ]
  },
  {
   "cell_type": "code",
   "execution_count": 121,
   "id": "09d21b59",
   "metadata": {},
   "outputs": [
    {
     "data": {
      "text/plain": [
       "Text(170.97222222222223, 0.5, 'true value')"
      ]
     },
     "execution_count": 121,
     "metadata": {},
     "output_type": "execute_result"
    },
    {
     "data": {
      "image/png": "[encoded data removed]",
      "text/plain": [
       "<Figure size 800x550 with 1 Axes>"
      ]
     },
     "metadata": {},
     "output_type": "display_data"
    }
   ],
   "source": [
    "# TO DO: Print confusion matrix using a heatmap\n",
    "\n",
    "\n",
    "sns.heatmap(mat, xticklabels=[1,2,3], yticklabels=[1,2,3], square=True, annot=True, cbar=False)\n",
    "plt.xlabel('predicted value')\n",
    "plt.ylabel('true value')\n"
   ]
  },
  {
   "cell_type": "code",
   "execution_count": 122,
   "id": "5ef95947",
   "metadata": {},
   "outputs": [
    {
     "name": "stdout",
     "output_type": "stream",
     "text": [
      "              precision    recall  f1-score   support\n",
      "\n",
      "           1       1.00      0.88      0.93        16\n",
      "           2       0.91      0.95      0.93        21\n",
      "           3       0.89      1.00      0.94         8\n",
      "\n",
      "    accuracy                           0.93        45\n",
      "   macro avg       0.93      0.94      0.93        45\n",
      "weighted avg       0.94      0.93      0.93        45\n",
      "\n"
     ]
    }
   ],
   "source": [
    "# TO DO: Print classification report\n",
    "\n",
    "from sklearn.metrics import classification_report\n",
    "print(classification_report(y_val,DTC_model.predict(X_val)))"
   ]
  },
  {
   "cell_type": "markdown",
   "id": "bf319621",
   "metadata": {},
   "source": [
    "### Questions (6 marks)\n",
    "1. How do the training and validation accuracy change depending on the method used? Explain with values.\n",
    "1. What are two reasons why the support vector machines model did not work as well as the tree-based model?\n",
    "1. How many samples were incorrectly classified in step 5.2? \n",
    "1. In this case, is maximizing precision or recall more important? Why?\n",
    "\n",
    "*YOUR ANSWERS HERE*\n",
    "\n",
    "1. The DecisionTreeClassifier gave much higher accuracy. The acurracy results for DecisionTreeClassifier are 0.994 for traning and 0.894 for validation. For SVC the accuracy results are 0.680 for training and 0.676 for validation. See how DecisionTreeClassifier is a better fit, it would be the better model.\n",
    "\n",
    "2. The SVC model is very responsive to data scaling, as we can see the data has float values as low as 0.01 to over 1000, which are widely apart. This may cause poor performance of the SVM mode. Another issue is adjustmnent of tuning parameters so the SVC model can perform better was not carried out. If we can fine tune the parameters of the SVC model we might be able to see an improvement.\n",
    "\n",
    "3. 3 samples\n",
    "\n",
    "4. Recall means capturing as many positive IDs as possible. With increasing recall, precision will go down. That suggests that model becomes less accurate. In this case, with three types of wine, we need to maximize precision and improve accuracy, because an accurate model will increase ID of wine. Here having false positive will be harmful."
   ]
  },
  {
   "cell_type": "markdown",
   "id": "664ff8ae",
   "metadata": {},
   "source": [
    "### Process Description (4 marks)\n",
    "Please describe the process you used to create your code. Cite any websites or generative AI tools used. You can use the following questions as guidance:\n",
    "1. Where did you source your code?\n",
    "1. In what order did you complete the steps?\n",
    "1. If you used generative AI, what prompts did you use? Did you need to modify the code at all? Why or why not?\n",
    "1. Did you have any challenges? If yes, what were they? If not, what helped you to be successful?\n",
    "\n",
    "1. I used the posted examples on D2L\n",
    "2. In sequence, steps 1 - 5\n",
    "3. Yes a little to understand why SVC can perform poorly. I asked \"What causes SVM to perform worse than DecisionTreeClassifier and explain it\". I did not modify the code.\n",
    "4. Yes I had some issues running the code. Also issues with things not being defined. I fixed them by investigating them.\n"
   ]
  },
  {
   "cell_type": "markdown",
   "id": "d0e837da",
   "metadata": {},
   "source": [
    "*DESCRIBE YOUR PROCESS HERE*"
   ]
  },
  {
   "cell_type": "markdown",
   "id": "4cd7358d",
   "metadata": {},
   "source": [
    "## Part 3: Observations/Interpretation (3 marks)\n",
    "\n",
    "Describe any pattern you see in the results. Relate your findings to what we discussed during lectures. Include data to justify your findings.\n",
    "\n",
    "With equal depth levels, we can compare the performane of different non linear models. Using the max depth of 5, the GradientBoost model was the best performer with the similar tree depth. The training score was 0.988 and validation score was 0.919. The GradientBoost model can achieve higher performance by developing multiple trees iteratively. The RandomForest came in second with training score of 0.896 and validation score of 0.840. It is an ensemble of decision tree and improves upon decision tree using multiple trees with different features which increase accuracy. Decision tree has the lowest performance but better than the linear model. It has a training accuracy of 0.834 and validation accuracy of 0.738. Both RandomForest and GradientBoost are improved version of the DecisionTree, which is seen in the accuracy results. The second part demonstrates that without fine tuning parameters, or choosing a non suitable model for data, where scaling is high, you can run into many performance issues. As seen in the SVC model, the performance is significantly worse than the DecisionTreeClassifier model.\n",
    "\n",
    "\n",
    "*ADD YOUR FINDINGS HERE*"
   ]
  },
  {
   "cell_type": "markdown",
   "id": "cd97b6ac",
   "metadata": {},
   "source": [
    "## Part 4: Reflection (2 marks)\n",
    "Include a sentence or two about:\n",
    "- what you liked or disliked,\n",
    "- found interesting, confusing, challangeing, motivating\n",
    "while working on this assignment.\n",
    "\n",
    "\n",
    "*ADD YOUR THOUGHTS HERE*\n",
    "\n",
    "- I liked the layout and user friendliness of the assignment. I like the format as it follows assignnment 2\n",
    "- The concepts are still very challenging to understand."
   ]
  },
  {
   "cell_type": "markdown",
   "id": "fa21e53b",
   "metadata": {},
   "source": [
    "## Part 5: Bonus Question (3 marks)\n",
    "\n",
    "Repeat Part 2 and compare the support vector machines model used to `LinearSVC(max_iter=5000)`. Does using `LinearSVC` improve the results? Why or why not?\n",
    "\n",
    "Is `LinearSVC` a good fit for this dataset? Why or why not?"
   ]
  },
  {
   "cell_type": "code",
   "execution_count": 123,
   "id": "30fea72e",
   "metadata": {},
   "outputs": [
    {
     "name": "stderr",
     "output_type": "stream",
     "text": [
      "c:\\Users\\Asus\\.conda\\envs\\ensf-ml\\Lib\\site-packages\\sklearn\\svm\\_classes.py:32: FutureWarning: The default value of `dual` will change from `True` to `'auto'` in 1.5. Set the value of `dual` explicitly to suppress the warning.\n",
      "  warnings.warn(\n",
      "c:\\Users\\Asus\\.conda\\envs\\ensf-ml\\Lib\\site-packages\\sklearn\\svm\\_base.py:1242: ConvergenceWarning: Liblinear failed to converge, increase the number of iterations.\n",
      "  warnings.warn(\n",
      "c:\\Users\\Asus\\.conda\\envs\\ensf-ml\\Lib\\site-packages\\sklearn\\svm\\_classes.py:32: FutureWarning: The default value of `dual` will change from `True` to `'auto'` in 1.5. Set the value of `dual` explicitly to suppress the warning.\n",
      "  warnings.warn(\n",
      "c:\\Users\\Asus\\.conda\\envs\\ensf-ml\\Lib\\site-packages\\sklearn\\svm\\_base.py:1242: ConvergenceWarning: Liblinear failed to converge, increase the number of iterations.\n",
      "  warnings.warn(\n",
      "c:\\Users\\Asus\\.conda\\envs\\ensf-ml\\Lib\\site-packages\\sklearn\\svm\\_classes.py:32: FutureWarning: The default value of `dual` will change from `True` to `'auto'` in 1.5. Set the value of `dual` explicitly to suppress the warning.\n",
      "  warnings.warn(\n",
      "c:\\Users\\Asus\\.conda\\envs\\ensf-ml\\Lib\\site-packages\\sklearn\\svm\\_base.py:1242: ConvergenceWarning: Liblinear failed to converge, increase the number of iterations.\n",
      "  warnings.warn(\n",
      "c:\\Users\\Asus\\.conda\\envs\\ensf-ml\\Lib\\site-packages\\sklearn\\svm\\_classes.py:32: FutureWarning: The default value of `dual` will change from `True` to `'auto'` in 1.5. Set the value of `dual` explicitly to suppress the warning.\n",
      "  warnings.warn(\n",
      "c:\\Users\\Asus\\.conda\\envs\\ensf-ml\\Lib\\site-packages\\sklearn\\svm\\_base.py:1242: ConvergenceWarning: Liblinear failed to converge, increase the number of iterations.\n",
      "  warnings.warn(\n",
      "c:\\Users\\Asus\\.conda\\envs\\ensf-ml\\Lib\\site-packages\\sklearn\\svm\\_classes.py:32: FutureWarning: The default value of `dual` will change from `True` to `'auto'` in 1.5. Set the value of `dual` explicitly to suppress the warning.\n",
      "  warnings.warn(\n",
      "c:\\Users\\Asus\\.conda\\envs\\ensf-ml\\Lib\\site-packages\\sklearn\\svm\\_base.py:1242: ConvergenceWarning: Liblinear failed to converge, increase the number of iterations.\n",
      "  warnings.warn(\n",
      "c:\\Users\\Asus\\.conda\\envs\\ensf-ml\\Lib\\site-packages\\sklearn\\svm\\_classes.py:32: FutureWarning: The default value of `dual` will change from `True` to `'auto'` in 1.5. Set the value of `dual` explicitly to suppress the warning.\n",
      "  warnings.warn(\n"
     ]
    },
    {
     "name": "stdout",
     "output_type": "stream",
     "text": [
      "SVM Train Score Accuracy = 0.86829\n",
      "SVM Val Score Accuracy = 0.84986\n"
     ]
    },
    {
     "name": "stderr",
     "output_type": "stream",
     "text": [
      "c:\\Users\\Asus\\.conda\\envs\\ensf-ml\\Lib\\site-packages\\sklearn\\svm\\_base.py:1242: ConvergenceWarning: Liblinear failed to converge, increase the number of iterations.\n",
      "  warnings.warn(\n"
     ]
    }
   ],
   "source": [
    "# TO DO: ADD YOUR CODE HERE\n",
    "\n",
    "X_tr2 = X_tr\n",
    "y_tr2 = y_tr\n",
    "\n",
    "from sklearn.svm import LinearSVC\n",
    "linear_svm = LinearSVC(max_iter=5000, random_state=0).fit(X_tr2, y_tr2)\n",
    "\n",
    "score_SVM_cval= cross_validate(linear_svm, X_tr2, y_tr2, cv=5, scoring='accuracy', return_train_score=True)\n",
    "\n",
    "print(\"SVM Train Score Accuracy = {:.5f}\".format(score_SVM_cval['train_score'].mean()))\n",
    "print(\"SVM Val Score Accuracy = {:.5f}\".format(score_SVM_cval['test_score'].mean()))\n"
   ]
  },
  {
   "cell_type": "markdown",
   "id": "aabc68a4",
   "metadata": {},
   "source": [
    "*ANSWER HERE*\n",
    "\n",
    "The LinearSVC model seems to perform better than the SVC model, with training accuracy of 0.868 and validation accuracy 0.849. Compared to SVC, it is much better. Perhaps for the data, going with with a linear based model is better suited."
   ]
  }
 ],
 "metadata": {
  "kernelspec": {
   "display_name": "Python 3.11.5 ('ensf-ml')",
   "language": "python",
   "name": "python3"
  },
  "language_info": {
   "codemirror_mode": {
    "name": "ipython",
    "version": 3
   },
   "file_extension": ".py",
   "mimetype": "text/x-python",
   "name": "python",
   "nbconvert_exporter": "python",
   "pygments_lexer": "ipython3",
   "version": "3.11.5"
  },
  "vscode": {
   "interpreter": {
    "hash": "5a29cbdb3a4d87bd4ca51dbe633eced75e23fbf7317d5f915665cf29f889d0cd"
   }
  }
 },
 "nbformat": 4,
 "nbformat_minor": 5
}
